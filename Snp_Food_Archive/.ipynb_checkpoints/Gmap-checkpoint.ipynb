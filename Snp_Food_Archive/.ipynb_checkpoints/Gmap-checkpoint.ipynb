{
 "cells": [
  {
   "cell_type": "code",
   "execution_count": 1,
   "metadata": {
    "collapsed": true
   },
   "outputs": [],
   "source": [
    "import pandas as pd\n"
   ]
  },
  {
   "cell_type": "code",
   "execution_count": 2,
   "metadata": {
    "collapsed": false
   },
   "outputs": [
    {
     "name": "stdout",
     "output_type": "stream",
     "text": [
      "city name:QOM\n"
     ]
    }
   ],
   "source": [
    "df=pd.read_clipboard()\n",
    "city=input('city name:')"
   ]
  },
  {
   "cell_type": "code",
   "execution_count": 6,
   "metadata": {
    "collapsed": false
   },
   "outputs": [
    {
     "data": {
      "text/html": [
       "<div>\n",
       "<table border=\"1\" class=\"dataframe\">\n",
       "  <thead>\n",
       "    <tr style=\"text-align: right;\">\n",
       "      <th></th>\n",
       "      <th>id</th>\n",
       "      <th>Request Latitude</th>\n",
       "      <th>Request Longitude</th>\n",
       "    </tr>\n",
       "  </thead>\n",
       "  <tbody>\n",
       "    <tr>\n",
       "      <th>0</th>\n",
       "      <td>481906993</td>\n",
       "      <td>36.56840</td>\n",
       "      <td>53.06576</td>\n",
       "    </tr>\n",
       "    <tr>\n",
       "      <th>1</th>\n",
       "      <td>481908090</td>\n",
       "      <td>36.55456</td>\n",
       "      <td>53.04624</td>\n",
       "    </tr>\n",
       "    <tr>\n",
       "      <th>2</th>\n",
       "      <td>481908399</td>\n",
       "      <td>36.57284</td>\n",
       "      <td>53.08213</td>\n",
       "    </tr>\n",
       "    <tr>\n",
       "      <th>3</th>\n",
       "      <td>481909935</td>\n",
       "      <td>36.55248</td>\n",
       "      <td>53.02915</td>\n",
       "    </tr>\n",
       "    <tr>\n",
       "      <th>4</th>\n",
       "      <td>481910327</td>\n",
       "      <td>36.56809</td>\n",
       "      <td>53.06568</td>\n",
       "    </tr>\n",
       "  </tbody>\n",
       "</table>\n",
       "</div>"
      ],
      "text/plain": [
       "          id  Request Latitude  Request Longitude\n",
       "0  481906993          36.56840           53.06576\n",
       "1  481908090          36.55456           53.04624\n",
       "2  481908399          36.57284           53.08213\n",
       "3  481909935          36.55248           53.02915\n",
       "4  481910327          36.56809           53.06568"
      ]
     },
     "execution_count": 6,
     "metadata": {},
     "output_type": "execute_result"
    }
   ],
   "source": [
    "df.head()"
   ]
  },
  {
   "cell_type": "code",
   "execution_count": 3,
   "metadata": {
    "collapsed": false
   },
   "outputs": [
    {
     "data": {
      "text/plain": [
       "(59595, 3)"
      ]
     },
     "execution_count": 3,
     "metadata": {},
     "output_type": "execute_result"
    }
   ],
   "source": [
    "df.shape"
   ]
  },
  {
   "cell_type": "code",
   "execution_count": 4,
   "metadata": {
    "collapsed": false
   },
   "outputs": [],
   "source": [
    "import gmplot\n",
    "\n",
    "gmap = gmplot.GoogleMapPlotter(df.iloc[0,1], df.iloc[0,2], 12)\n",
    "\n",
    "radius=20\n",
    "\n",
    "#gmap.plot(df.iloc[:,1], df.iloc[:,2], 'cornflowerblue', edge_width=10)\n",
    "#gmap.scatter(df.iloc[:,1], df.iloc[:,2], '#3B0B39', size=40, marker=False)\n",
    "#gmap.scatter(df.iloc[:,1], df.iloc[:,2], 'k', marker=True)\n",
    "gmap.heatmap(df.iloc[:,1], df.iloc[:,2],radius=radius,opacity=0.6)\n",
    "\n",
    "gmap.draw(\"{0}_{1}.html\".format(city,radius))\n"
   ]
  }
 ],
 "metadata": {
  "kernelspec": {
   "display_name": "Python 3",
   "language": "python",
   "name": "python3"
  },
  "language_info": {
   "codemirror_mode": {
    "name": "ipython",
    "version": 3
   },
   "file_extension": ".py",
   "mimetype": "text/x-python",
   "name": "python",
   "nbconvert_exporter": "python",
   "pygments_lexer": "ipython3",
   "version": "3.6.0"
  }
 },
 "nbformat": 4,
 "nbformat_minor": 2
}
