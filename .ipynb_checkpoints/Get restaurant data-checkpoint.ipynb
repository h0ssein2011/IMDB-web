{
 "cells": [
  {
   "cell_type": "code",
   "execution_count": 2,
   "metadata": {},
   "outputs": [
    {
     "name": "stdout",
     "output_type": "stream",
     "text": [
      "25\n",
      "{'https://snappfood.ir/page/about', 'https://snappfood.ir/restaurant/menu/3dqqkd/mazeh/tavanir', 'https://snappfood.ir/restaurant/menu/37x8ym/arghavan', 'https://snappfood.ir/restaurant/menu/0jxzq3/sadretehranrestaurant', 'https://snappfood.ir/landing/zfe', 'https://snappfood.ir/restaurant/menu/0wlr8p/burgerator/tehran', 'https://snappfood.ir/restaurant/menu/3d5qew/hani/andarzgoo', 'https://snappfood.ir/restaurant/menu/0wlr8p/burgerator?branch_name=tehran', 'https://snappfood.ir/restaurant/menu/0ngdgz/parsbanoo', 'https://snappfood.irhttp://www.aparat.com/snappfood', 'https://snappfood.ir/restaurant/menu/0y194g/tehrani', 'https://snappfood.ir/page/contact', 'https://snappfood.ir/restaurant/menu/0jydnv/osve', 'https://snappfood.ir/restaurant/menu/3d5qew/hani?branch_name=andarzgoo', 'https://snappfood.irjavascript:;', 'https://snappfood.ir/landing/zoodfoodexpress', 'https://snappfood.ir/restaurant/menu/32mzde/mobin', 'https://snappfood.ir/', 'https://snappfood.ir/locale/en', 'https://snappfood.ir/restaurant/menu/0rj2r1/ghadircatering', 'https://snappfood.ir/restaurant/menu/3dqqkd/mazzeh?branch_name=tavanir', 'https://snappfood.ir/restaurant/city/Tehran', 'https://snappfood.ir/restaurant/menu/p61963/perperook?branch_name=sohrevardi', 'https://snappfood.ir/restaurant/menu/p61963/perperook/sohrevardi', 'https://snappfood.ir/restaurant/menu/po994q/bowrani'}\n"
     ]
    }
   ],
   "source": [
    "import requests\n",
    "from bs4 import BeautifulSoup\n",
    "\n",
    "# Set headers\n",
    "headers = requests.utils.default_headers()\n",
    "headers.update({ 'User-Agent': 'Mozilla/5.0 (X11; Ubuntu; Linux x86_64; rv:52.0) Gecko/20100101 Firefox/52.0'})\n",
    "\n",
    "\n",
    "\n",
    "url = \"https://snappfood.ir/restaurant/city/Tehran\"\n",
    "req = requests.get(url)\n",
    "soup = BeautifulSoup(req.content, 'lxml')\n",
    "# print(soup.prettify())\n",
    "\n",
    "base_link='https://snappfood.ir'\n",
    "links=[]\n",
    "restaurant_links=[]\n",
    "\n",
    "for sp in soup.find_all('div'):\n",
    "    sp=sp.find('a')\n",
    "    try:\n",
    "        hrefs=sp.attrs['href']\n",
    "       \n",
    "        links.append(base_link+hrefs)\n",
    "        \n",
    "#         \n",
    "        \n",
    "#         \n",
    "#              restaurant_links.append(base_link+hrefs)\n",
    "            \n",
    "        \n",
    "    except:\n",
    "        pass\n",
    "\n",
    "links=set(links)\n",
    "print(len(links))\n",
    "print(links)\n"
   ]
  },
  {
   "cell_type": "code",
   "execution_count": 3,
   "metadata": {},
   "outputs": [
    {
     "data": {
      "text/plain": [
       "['https://snappfood.ir/restaurant/menu/3dqqkd/mazeh/tavanir',\n",
       " 'https://snappfood.ir/restaurant/menu/37x8ym/arghavan',\n",
       " 'https://snappfood.ir/restaurant/menu/0jxzq3/sadretehranrestaurant',\n",
       " 'https://snappfood.ir/restaurant/menu/0wlr8p/burgerator/tehran',\n",
       " 'https://snappfood.ir/restaurant/menu/3d5qew/hani/andarzgoo',\n",
       " 'https://snappfood.ir/restaurant/menu/0wlr8p/burgerator?branch_name=tehran',\n",
       " 'https://snappfood.ir/restaurant/menu/0ngdgz/parsbanoo',\n",
       " 'https://snappfood.ir/restaurant/menu/0y194g/tehrani',\n",
       " 'https://snappfood.ir/restaurant/menu/0jydnv/osve',\n",
       " 'https://snappfood.ir/restaurant/menu/3d5qew/hani?branch_name=andarzgoo',\n",
       " 'https://snappfood.ir/restaurant/menu/32mzde/mobin',\n",
       " 'https://snappfood.ir/restaurant/menu/0rj2r1/ghadircatering',\n",
       " 'https://snappfood.ir/restaurant/menu/3dqqkd/mazzeh?branch_name=tavanir',\n",
       " 'https://snappfood.ir/restaurant/menu/p61963/perperook?branch_name=sohrevardi',\n",
       " 'https://snappfood.ir/restaurant/menu/p61963/perperook/sohrevardi',\n",
       " 'https://snappfood.ir/restaurant/menu/po994q/bowrani']"
      ]
     },
     "execution_count": 3,
     "metadata": {},
     "output_type": "execute_result"
    }
   ],
   "source": [
    "real_restaurants=[]\n",
    "for link in links:\n",
    "    if 'menu' in link:\n",
    "        real_restaurants.append(link)\n",
    "    \n",
    "real_restaurants"
   ]
  },
  {
   "cell_type": "code",
   "execution_count": 53,
   "metadata": {},
   "outputs": [
    {
     "data": {
      "text/plain": [
       "{'tavanir': [<h2 class=\"kk-fa-digit\" id=\"vendor-address\" itemprop=\"address\"> آدرس                        : خیابان ولیعصر، خیابان توانیر، پلاک 10، رستوران مزه (توانیر)</h2>],\n",
       " 'arghavan': [<h2 class=\"kk-fa-digit\" id=\"vendor-address\" itemprop=\"address\"> آدرس                        : آیت الله کاشانی، روبه روی شهرداری منطقه 5، پلاک 396، کترینگ ارغوان</h2>],\n",
       " 'sadretehranrestaurant': [<h2 class=\"kk-fa-digit\" id=\"vendor-address\" itemprop=\"address\"> آدرس                        : یوسف آباد، بین کوچه 11 و 13، پلاک 77، رستوران صدر تهران</h2>],\n",
       " 'tehran': [<h2 class=\"kk-fa-digit\" id=\"vendor-address\" itemprop=\"address\"> آدرس                        : جردن، بلوار صبا، پلاک 25، برگراتور</h2>],\n",
       " 'andarzgoo': [<h2 class=\"kk-fa-digit\" id=\"vendor-address\" itemprop=\"address\"> آدرس                        : بلوار اندرزگو، تقاطع بلوار کاوه، هانی (اندرزگو)</h2>],\n",
       " 'burgerator?branch_name=tehran': [<h2 class=\"kk-fa-digit\" id=\"vendor-address\" itemprop=\"address\"> آدرس                        : جردن، بلوار صبا، پلاک 25، برگراتور</h2>],\n",
       " 'parsbanoo': [<h2 class=\"kk-fa-digit\" id=\"vendor-address\" itemprop=\"address\"> آدرس                        : مرزداران، خیابان ابراهیمی، برج الوند، طبقه منفی یک، پلاک 65، کترینگ پارس بانو</h2>],\n",
       " 'tehrani': [<h2 class=\"kk-fa-digit\" id=\"vendor-address\" itemprop=\"address\"> آدرس                        : خیابان شهید بهشتی، خیابان احمد قصیر، کوچه ی مقدس، کترینگ طهرانی</h2>],\n",
       " 'osve': [<h2 class=\"kk-fa-digit\" id=\"vendor-address\" itemprop=\"address\"> آدرس                        : ونک، گاندی شمالی، خیابان شریفی، پلاک 45، اسوه</h2>],\n",
       " 'hani?branch_name=andarzgoo': [<h2 class=\"kk-fa-digit\" id=\"vendor-address\" itemprop=\"address\"> آدرس                        : بلوار اندرزگو، تقاطع بلوار کاوه، هانی (اندرزگو)</h2>],\n",
       " 'mobin': [<h2 class=\"kk-fa-digit\" id=\"vendor-address\" itemprop=\"address\"> آدرس                        : خیابان اسکندری جنوبی، پایین تر از آذربایجان، روبه روی فروشگاه اتکا، پلاک293، رستوران مبین</h2>],\n",
       " 'ghadircatering': [<h2 class=\"kk-fa-digit\" id=\"vendor-address\" itemprop=\"address\"> آدرس                        : خیابان ظفر، خیابان گوی آبادی، خیابان راجیان، کوچه دلیری، پلاک 9، کترینگ غدیر</h2>],\n",
       " 'mazzeh?branch_name=tavanir': [<h2 class=\"kk-fa-digit\" id=\"vendor-address\" itemprop=\"address\"> آدرس                        : خیابان ولیعصر، خیابان توانیر، پلاک 10، رستوران مزه (توانیر)</h2>],\n",
       " 'perperook?branch_name=sohrevardi': [<h2 class=\"kk-fa-digit\" id=\"vendor-address\" itemprop=\"address\"> آدرس                        : سهروردی شمالی، خیابان آپادانا (خرمشهر)، نرسیده به قنبرزاده (مصلی)، پلاک 125، پیتزا پرپروک (آپادانا)</h2>],\n",
       " 'sohrevardi': [<h2 class=\"kk-fa-digit\" id=\"vendor-address\" itemprop=\"address\"> آدرس                        : سهروردی شمالی، خیابان آپادانا (خرمشهر)، نرسیده به قنبرزاده (مصلی)، پلاک 125، پیتزا پرپروک (آپادانا)</h2>],\n",
       " 'bowrani': [<h2 class=\"kk-fa-digit\" id=\"vendor-address\" itemprop=\"address\"> آدرس                        : خیابان سهروردی جنوبی، خیابان اورامان، پلاک ۲۰، غذای خانگی بورانی</h2>]}"
      ]
     },
     "execution_count": 53,
     "metadata": {},
     "output_type": "execute_result"
    }
   ],
   "source": [
    "#create a function to go trough each link and get desired data\n",
    "# create a dict to store data\n",
    "restaurant={}\n",
    "#add name restaurants\n",
    "\n",
    "    \n",
    "for url in real_restaurants:\n",
    "    \n",
    "    req = requests.get(url)\n",
    "    soup = BeautifulSoup(req.content, 'lxml')\n",
    "    name=url[url.rfind('/')+1:]\n",
    "    address=soup.find_all('h2',{'class':'kk-fa-digit'})\n",
    "#     address=address[address.rfind('>'):]\n",
    "    restaurant.update([(name,address)])\n",
    "\n",
    "    \n",
    "restaurant     "
   ]
  },
  {
   "cell_type": "code",
   "execution_count": 48,
   "metadata": {},
   "outputs": [
    {
     "ename": "TypeError",
     "evalue": "'dict_values' object does not support indexing",
     "output_type": "error",
     "traceback": [
      "\u001b[1;31m---------------------------------------------------------------------------\u001b[0m",
      "\u001b[1;31mTypeError\u001b[0m                                 Traceback (most recent call last)",
      "\u001b[1;32m<ipython-input-48-ec94575cc83a>\u001b[0m in \u001b[0;36m<module>\u001b[1;34m\u001b[0m\n\u001b[1;32m----> 1\u001b[1;33m \u001b[0mrestaurant\u001b[0m\u001b[1;33m.\u001b[0m\u001b[0mvalues\u001b[0m\u001b[1;33m(\u001b[0m\u001b[1;33m)\u001b[0m\u001b[1;33m[\u001b[0m\u001b[1;36m0\u001b[0m\u001b[1;33m]\u001b[0m\u001b[1;33m\u001b[0m\u001b[1;33m\u001b[0m\u001b[0m\n\u001b[0m",
      "\u001b[1;31mTypeError\u001b[0m: 'dict_values' object does not support indexing"
     ]
    }
   ],
   "source": [
    "restaurant.values()"
   ]
  },
  {
   "cell_type": "code",
   "execution_count": null,
   "metadata": {},
   "outputs": [],
   "source": []
  }
 ],
 "metadata": {
  "kernelspec": {
   "display_name": "Python 3",
   "language": "python",
   "name": "python3"
  },
  "language_info": {
   "codemirror_mode": {
    "name": "ipython",
    "version": 3
   },
   "file_extension": ".py",
   "mimetype": "text/x-python",
   "name": "python",
   "nbconvert_exporter": "python",
   "pygments_lexer": "ipython3",
   "version": "3.7.1"
  }
 },
 "nbformat": 4,
 "nbformat_minor": 2
}
