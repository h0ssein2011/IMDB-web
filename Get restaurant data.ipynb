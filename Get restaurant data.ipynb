{
 "cells": [
  {
   "cell_type": "code",
   "execution_count": 26,
   "metadata": {},
   "outputs": [
    {
     "name": "stdout",
     "output_type": "stream",
     "text": [
      "28\n",
      "{'https://snappfood.ir/restaurant/menu/3dq827/202/zargandeh', 'https://snappfood.ir/restaurant/menu/3dqwzw/SUPERMARKETT?branch_name=dezashib', 'https://snappfood.ir/landing/zoodfoodexpress', 'https://snappfood.ir/landing/zfe', 'https://snappfood.ir/locale/en', 'https://snappfood.ir/restaurant/menu/32mzde/mobin', 'https://snappfood.ir/restaurant/menu/0y57dp/perperook/saadatabad', 'https://snappfood.ir/restaurant/menu/p61963/perperook?branch_name=sohrevardi', 'https://snappfood.ir/restaurant/menu/32m1rl/addressfoodhall', 'https://snappfood.ir/restaurant/menu/p56gx3/perperook/qeytariyeh', 'https://snappfood.ir/restaurant/menu/096eqy/felafeldolopi', 'https://snappfood.ir/restaurant/menu/3dq827/zooket?branch_name=zargandeh', 'https://snappfood.ir/page/contact', 'https://snappfood.ir/restaurant/menu/3d5lvw/neshat2', 'https://snappfood.ir/restaurant/menu/0rzz83/morgsokharichicken', 'https://snappfood.ir/restaurant/menu/p56gx3/perperook?branch_name=qeytariyeh', 'https://snappfood.ir/page/about', 'https://snappfood.ir/restaurant/menu/3k6nlg/azhdarzapata?branch_name=punak', 'https://snappfood.ir/', 'https://snappfood.irjavascript:;', 'https://snappfood.ir/restaurant/menu/0y57dp/perperook?branch_name=saadatabad', 'https://snappfood.ir/restaurant/menu/pz7l10/perperook?branch_name=pasdaran', 'https://snappfood.ir/restaurant/menu/pz7l10/perperook/pasdaran', 'https://snappfood.irhttp://www.aparat.com/snappfood', 'https://snappfood.ir/restaurant/menu/p61963/perperook/sohrevardi', 'https://snappfood.ir/restaurant/menu/3k6nlg/ajdarzapata/punak', 'https://snappfood.ir/restaurant/menu/3dqwzw/202/dezashib', 'https://snappfood.ir/restaurant/city/Tehran'}\n"
     ]
    }
   ],
   "source": [
    "import requests\n",
    "# Set headers\n",
    "headers = requests.utils.default_headers()\n",
    "headers.update({ 'User-Agent': 'Mozilla/5.0 (X11; Ubuntu; Linux x86_64; rv:52.0) Gecko/20100101 Firefox/52.0'})\n",
    "\n",
    "\n",
    "from bs4 import BeautifulSoup\n",
    "\n",
    "url = \"https://snappfood.ir/restaurant/city/Tehran\"\n",
    "req = requests.get(url)\n",
    "soup = BeautifulSoup(req.content, 'lxml')\n",
    "# print(soup.prettify())\n",
    "\n",
    "base_link='https://snappfood.ir'\n",
    "links=[]\n",
    "restaurant_links=[]\n",
    "\n",
    "for sp in soup.find_all('div'):\n",
    "    sp=sp.find('a')\n",
    "    try:\n",
    "        hrefs=sp.attrs['href']\n",
    "       \n",
    "        links.append(base_link+hrefs)\n",
    "        \n",
    "#         \n",
    "        \n",
    "#         \n",
    "#              restaurant_links.append(base_link+hrefs)\n",
    "            \n",
    "        \n",
    "    except:\n",
    "        pass\n",
    "links=set(links)\n",
    "print(len(links))\n",
    "print(links)\n"
   ]
  },
  {
   "cell_type": "code",
   "execution_count": 35,
   "metadata": {},
   "outputs": [
    {
     "data": {
      "text/plain": [
       "['https://snappfood.ir/restaurant/menu/3dq827/202/zargandeh',\n",
       " 'https://snappfood.ir/restaurant/menu/3dqwzw/SUPERMARKETT?branch_name=dezashib',\n",
       " 'https://snappfood.ir/restaurant/menu/32mzde/mobin',\n",
       " 'https://snappfood.ir/restaurant/menu/0y57dp/perperook/saadatabad',\n",
       " 'https://snappfood.ir/restaurant/menu/p61963/perperook?branch_name=sohrevardi',\n",
       " 'https://snappfood.ir/restaurant/menu/32m1rl/addressfoodhall',\n",
       " 'https://snappfood.ir/restaurant/menu/p56gx3/perperook/qeytariyeh',\n",
       " 'https://snappfood.ir/restaurant/menu/096eqy/felafeldolopi',\n",
       " 'https://snappfood.ir/restaurant/menu/3dq827/zooket?branch_name=zargandeh',\n",
       " 'https://snappfood.ir/restaurant/menu/3d5lvw/neshat2',\n",
       " 'https://snappfood.ir/restaurant/menu/0rzz83/morgsokharichicken',\n",
       " 'https://snappfood.ir/restaurant/menu/p56gx3/perperook?branch_name=qeytariyeh',\n",
       " 'https://snappfood.ir/restaurant/menu/3k6nlg/azhdarzapata?branch_name=punak',\n",
       " 'https://snappfood.ir/restaurant/menu/0y57dp/perperook?branch_name=saadatabad',\n",
       " 'https://snappfood.ir/restaurant/menu/pz7l10/perperook?branch_name=pasdaran',\n",
       " 'https://snappfood.ir/restaurant/menu/pz7l10/perperook/pasdaran',\n",
       " 'https://snappfood.ir/restaurant/menu/p61963/perperook/sohrevardi',\n",
       " 'https://snappfood.ir/restaurant/menu/3k6nlg/ajdarzapata/punak',\n",
       " 'https://snappfood.ir/restaurant/menu/3dqwzw/202/dezashib']"
      ]
     },
     "execution_count": 35,
     "metadata": {},
     "output_type": "execute_result"
    }
   ],
   "source": [
    "real_restaurants=[]\n",
    "for link in links:\n",
    "    if 'menu' in link:\n",
    "        \n",
    "        real_restaurants.append(link)\n",
    "    \n",
    "real_restaurants"
   ]
  },
  {
   "cell_type": "code",
   "execution_count": null,
   "metadata": {},
   "outputs": [],
   "source": []
  },
  {
   "cell_type": "code",
   "execution_count": null,
   "metadata": {},
   "outputs": [],
   "source": []
  }
 ],
 "metadata": {
  "kernelspec": {
   "display_name": "Python 3",
   "language": "python",
   "name": "python3"
  },
  "language_info": {
   "codemirror_mode": {
    "name": "ipython",
    "version": 3
   },
   "file_extension": ".py",
   "mimetype": "text/x-python",
   "name": "python",
   "nbconvert_exporter": "python",
   "pygments_lexer": "ipython3",
   "version": "3.7.1"
  }
 },
 "nbformat": 4,
 "nbformat_minor": 2
}
